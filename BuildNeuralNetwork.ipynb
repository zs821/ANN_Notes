{
 "cells": [
  {
   "cell_type": "markdown",
   "id": "0bca8976-62ea-4a0c-b34a-3ad1b283ec9f",
   "metadata": {},
   "source": [
    "# Python AI: How to Build a Neural Network & Make Predictions"
   ]
  },
  {
   "cell_type": "markdown",
   "id": "32133dfe-4b1d-4ca1-b30b-515570f2c54f",
   "metadata": {},
   "source": [
    "## ML\n",
    "You would gather data and train a statistical model. Statistical models are mathematically formalized ways to approximate the behavior of a phenomenon.\n",
    "\n",
    "A common ML task is supervised learning, in which you have a dataset with inputs and known outputs. The task is to use this dataset to train a model that predicts the correct outputs based on the inputs.\n",
    "\n",
    "## Feature Engineering \n",
    "\n",
    "Another name for input data is feature, and feature engineering is the process of extracting features from raw data.\n",
    "\n",
    "## Deep Learning \n",
    "\n",
    "Deep learning is a technique in which you let the neural network figure out by itself which features are important instead of applying feature engineering techniques. The networks can learn the features by themselves.\n",
    "\n",
    "## Neural Networks: Main Concepts\n",
    "\n",
    "A neural network is a system that learns how to make predictions by following these steps:\n",
    "\n",
    "Taking the input data\n",
    "\n",
    "Making a prediction\n",
    "\n",
    "Comparing the prediction to the desired output\n",
    "\n",
    "Adjusting its internal state to predict correctly the next time\n",
    "\n",
    "*Vectors, layers, and linear regression* are some of the building blocks.\n",
    "\n",
    "The data is stored as vectors (arrays).\n",
    "\n",
    "Each layer transforms the data that comes from the previous layer. You can think of each layer as a feature engineering step, because each layer extracts some representation of the data that came previously.\n",
    "\n",
    "### The Process to Train a Neural Network\n",
    "\n",
    "*trial and error*.\n",
    "\n",
    "You start with some *random weights and bias vectors*, make a prediction, compare it to the desired output, and adjust the vectors to predict more accurately the next time.\n",
    "\n",
    "Knowing when to stop the training and what accuracy target to set is an important aspect of training neural networks, mainly because of overfitting and underfitting scenarios.\n",
    "\n",
    "#### Vectors and Weights\n",
    "You represent the vectors as multidimensional arrays. Vectors are useful: *the dot product*. The dot product of two vectors tells you how similar they are in terms of direction and is scaled by the magnitude of the two vectors.\n",
    "\n",
    "The main vectors inside a neural network are *the weights and bias vectors*.\n",
    "\n",
    "Loosely, what you want your neural network to do is to check if an input is similar to other inputs it’s already seen. If the new input is similar to previously seen inputs, then the outputs will also be similar. That’s how you get the result of a prediction.\n",
    "\n",
    "#### The Linear Regression Model\n",
    "\n",
    "Regression is used when you need to estimate the relationship between a dependent variable and two or more independent variables. Linear regression is a method applied when you approximate the relationship between the variables as linear.\n",
    "\n",
    "By modeling the relationship between the variables as linear, you can express the dependent variable as a weighted sum of the independent variables.\n",
    "\n",
    "So, each independent variable will be multiplied by a vector called *weight*. Besides the weights and the independent variables, you also add another vector: *the bia*s. It sets the result when all the other independent variables are equal to zero.\n",
    "\n",
    "To predict the price of houses based on the area and how old the house is. (using linear regression).\n",
    "\n",
    "*price = (weights_area * area) + (weights_age * age) + bias*"
   ]
  },
  {
   "cell_type": "markdown",
   "id": "89e79fb8-6185-4ee2-956a-795f2ee37d6b",
   "metadata": {},
   "source": [
    "## Python AI: Starting to Build Your First Neural Network\n",
    "1 - Generating an output from input data. You’ll do that by creating a weighted sum of the variables.\n",
    "\n",
    "The goal is to find which of the weights is more similar to the input, taking into account the direction and the magnitude."
   ]
  },
  {
   "cell_type": "code",
   "execution_count": 1,
   "id": "48c328be-6f69-4593-8149-9ad45e8204f1",
   "metadata": {},
   "outputs": [
    {
     "data": {
      "image/png": "[encoded data removed]",
      "text/plain": [
       "<Figure size 640x480 with 1 Axes>"
      ]
     },
     "metadata": {},
     "output_type": "display_data"
    }
   ],
   "source": [
    "input_vector = [1.72, 1.23]\n",
    "weights_1 = [1.26, 0]\n",
    "weights_2 = [2.17, 0.32]\n",
    "\n",
    "import matplotlib.pyplot as plt\n",
    "plt.quiver(0, 0, input_vector[0], input_vector[1], angles='xy', scale_units='xy', scale=1, color='r')\n",
    "plt.quiver(0, 0, weights_1[0], weights_1[1], angles='xy', scale_units='xy', scale=1, color='g')\n",
    "plt.quiver(0, 0, weights_2[0], weights_2[1], angles='xy', scale_units='xy', scale=1, color='b')\n",
    "plt.xlim(-1, 2.5)\n",
    "plt.ylim(-1, 2.5)\n",
    "plt.show()"
   ]
  },
  {
   "cell_type": "markdown",
   "id": "eb5b8ad1-3d5b-4082-8786-d91504547432",
   "metadata": {},
   "source": [
    "weights_2 is more similar.\n",
    "\n",
    "To find that using Python, you’ll apply the dot product."
   ]
  },
  {
   "cell_type": "code",
   "execution_count": 2,
   "id": "15e31f6d-7f76-4f80-9ae9-12002ce52395",
   "metadata": {},
   "outputs": [
    {
     "name": "stdout",
     "output_type": "stream",
     "text": [
      "2.1672\n",
      "2.1672\n"
     ]
    }
   ],
   "source": [
    "first_indexes_mult = input_vector[0] * weights_1[0]\n",
    "second_indexes_mult = input_vector[1] * weights_1[1]\n",
    "dot_product_1 = first_indexes_mult + second_indexes_mult\n",
    "print(dot_product_1)\n",
    "\n",
    "# np.dot()\n",
    "\n",
    "import numpy as np\n",
    "dot_product_1 = np.dot(input_vector, weights_1)\n",
    "print(dot_product_1)"
   ]
  },
  {
   "cell_type": "code",
   "execution_count": 3,
   "id": "b4f60807-5e47-4de4-8252-c0b40f2f60a3",
   "metadata": {},
   "outputs": [
    {
     "name": "stdout",
     "output_type": "stream",
     "text": [
      "4.1259999999999994\n"
     ]
    }
   ],
   "source": [
    "dot_product_2 = np.dot(input_vector, weights_2)\n",
    "print(dot_product_2)"
   ]
  },
  {
   "cell_type": "markdown",
   "id": "c0cc5873-5e5d-4d74-bf22-763a4fa977c0",
   "metadata": {},
   "source": [
    "4.1 > 2.2 so weights_2 is more similar to input_vector"
   ]
  },
  {
   "cell_type": "markdown",
   "id": "2df5eb90-8b28-4b84-bbd1-aef388df6432",
   "metadata": {},
   "source": [
    "You’ll train a model to make predictions that have only two possible outcomes. (0 or 1). This is a classification problem, a subset of supervised learning problems in which you have a dataset with the inputs and the known targets. (1.66, 1.56 = 1; 2, 1.5 = 0)\n",
    "\n",
    "The dot product and a sum, both are linear operations -> If you add more layers but keep using only linear operations, then adding more layers would have no effect because each layer will always have some correlation with the input of the previous layer.\n",
    "\n",
    "*Nonlinear functions (activation functions)*: *The ReLU (rectified linear unit)*, is a function that converts all negative numbers to zero.\n",
    "\n",
    "The network you’re building will use the sigmoid activation function. The e is a mathematical constant called Euler’s number, and you can use np.exp(x) to calculate eˣ. The Bernoulli distribution is a distribution that has two possible outcomes. The sigmoid function is a good choice if your problem follows the Bernoulli distribution.\n",
    "\n",
    "<img src=\"https://realpython.com/cdn-cgi/image/width=2315,format=auto/https://files.realpython.com/media/sigmoid_function.f966c820f8c3.png\" width=\"150\">\n",
    "\n",
    "If the output is greater than 0.5, then you’ll say the prediction is 1. If it’s below 0.5, then you’ll say the prediction is 0.\n",
    "\n",
    "<img src=\"https://realpython.com/cdn-cgi/image/width=1400,format=auto/https://files.realpython.com/media/network_architecture.406cfcc68417.png\" width=\"250\">"
   ]
  },
  {
   "cell_type": "code",
   "execution_count": 4,
   "id": "7fa403a9-bb7a-4f81-b1cc-8adc1c2a5155",
   "metadata": {},
   "outputs": [
    {
     "data": {
      "text/plain": [
       "array([0.7985731])"
      ]
     },
     "execution_count": 4,
     "metadata": {},
     "output_type": "execute_result"
    }
   ],
   "source": [
    "input_vector = np.array([1.66, 1.56])\n",
    "weights_1 = np.array([1.45, -0.66])\n",
    "bias = np.array([0.0])\n",
    "\n",
    "def sigmoid(x):\n",
    "    return 1 / (1 + np.exp(-x))\n",
    "\n",
    "def make_prediction(input_vector, weights, bias):\n",
    "    layer_1 = np.dot(input_vector, weights) + bias\n",
    "    layer_2 = sigmoid(layer_1)\n",
    "    return layer_2\n",
    "\n",
    "prediction = make_prediction(input_vector, weights_1, bias)\n",
    "prediction # right"
   ]
  },
  {
   "cell_type": "code",
   "execution_count": 5,
   "id": "4b9e671b-a558-4bcf-9f09-4daa3aa2171d",
   "metadata": {},
   "outputs": [
    {
     "data": {
      "text/plain": [
       "array([0.87101915])"
      ]
     },
     "execution_count": 5,
     "metadata": {},
     "output_type": "execute_result"
    }
   ],
   "source": [
    "input_vector = np.array([2, 1.5])\n",
    "prediction = make_prediction(input_vector, weights_1, bias)\n",
    "prediction # wrong"
   ]
  },
  {
   "cell_type": "markdown",
   "id": "cdd5d20a-56b0-4b05-96c0-4f5a801f51df",
   "metadata": {},
   "source": [
    "## Train Your First Neural Network\n",
    "\n",
    "You assess the error and then adjust the weights. To adjust the weights, you’ll use the *gradient descent and backpropagation algorithms*. Gradient descent is applied to find the direction and the rate to update the parameters.\n",
    "\n",
    "### Computing the Prediction Error\n",
    "\n",
    "The function used to measure the error is called the *cost function, or loss function*. The *mean squared error (MSE)* as your cost function. Compute the difference between the prediction and the target then multiply the result by itself. You’ll always end up with a positive value."
   ]
  },
  {
   "cell_type": "code",
   "execution_count": 6,
   "id": "5a50a304-d0e7-4176-a963-969ca72feeda",
   "metadata": {},
   "outputs": [
    {
     "data": {
      "text/plain": [
       "(array([0.87101915]), array([0.75867436]))"
      ]
     },
     "execution_count": 6,
     "metadata": {},
     "output_type": "execute_result"
    }
   ],
   "source": [
    "target = 0\n",
    "mse = np.square(prediction - target)\n",
    "prediction, mse"
   ]
  },
  {
   "cell_type": "markdown",
   "id": "36c62dbd-9d4d-4313-91c1-aaeac5f217b7",
   "metadata": {},
   "source": [
    "#### Understanding How to Reduce the Error\n",
    "\n",
    "The goal is to change the weights and bias variables so you can reduce the error. You’ll change only the weights variable and leave the bias fixed for now. You can also get rid of the sigmoid function and use only the result of layer_1. \n",
    "\n",
    "You compute the MSE by doing error = np.square(prediction - target). If you treat (prediction - target) as a single variable x, then you have error = np.square(x), which is a quadratic function.\n",
    "\n",
    "<img src=\"https://realpython.com/cdn-cgi/image/width=1157,format=auto/https://files.realpython.com/media/quatratic_function.002729dea332.png\" width=\"250\">\n",
    "\n",
    "The error is given by the y-axis. If you’re in point A and want to reduce the error toward 0, then you need to bring the x value down. On the other hand, if you’re in point B and want to reduce the error, then you need to bring the x value up.\n",
    "\n",
    "To know which direction you should go to reduce the error, you’ll use the derivative. Another word for the derivative is *gradient*. *Gradient descent* is the name of the algorithm used to find the direction and the rate to update the network parameters.\n",
    "\n",
    "The power rule states that the derivative of xⁿ is nx⁽ⁿ⁻¹⁾. So the derivative of np.square(x) is 2 * x.\n",
    "\n",
    "If the mean squared error is 0.75, then should you increase or decrease the weights? The result is 1.74, a positive number, so you need to decrease the weights. You do that by subtracting the derivative result of the weights vector."
   ]
  },
  {
   "cell_type": "code",
   "execution_count": 7,
   "id": "0e2e3834-b760-4624-bb75-19442eadc672",
   "metadata": {},
   "outputs": [
    {
     "name": "stdout",
     "output_type": "stream",
     "text": [
      "[1.7420383]\n"
     ]
    },
    {
     "data": {
      "text/plain": [
       "(array([0.01496248]), array([0.00022388]))"
      ]
     },
     "execution_count": 7,
     "metadata": {},
     "output_type": "execute_result"
    }
   ],
   "source": [
    "derivative = 2 * (prediction - target)\n",
    "print(derivative)\n",
    "\n",
    "weights_1 = weights_1 - derivative\n",
    "prediction = make_prediction(input_vector, weights_1, bias)\n",
    "error = (prediction - target) ** 2\n",
    "prediction, error"
   ]
  },
  {
   "cell_type": "markdown",
   "id": "ddd869c7-c030-48e4-bcb8-2931e881fc9f",
   "metadata": {},
   "source": [
    "The error dropped down to almost 0!\n",
    "\n",
    "High increments aren’t ideal because you could keep going from point A straight to point B, never getting close to zero. To cope with that, you update the weights with a fraction of the derivative result.\n",
    "\n",
    "To define a *fraction* for updating the weights, you use *the alpha parameter*, also called *the learning rate*. If you decrease the learning rate, then the increments are smaller. If you increase it, then the steps are higher.\n",
    "\n",
    "Traditional default learning rate values are *0.1, 0.01, and 0.001*.\n",
    "\n",
    "If you take the new weights and make a prediction with the first input vector, then you’ll see that now it makes a wrong prediction for that one. If your neural network makes a correct prediction for every instance in your training set, then you probably have an overfitted model, where the model simply remembers how to classify the examples instead of learning to notice features in the data.\n",
    "\n",
    "There are techniques to avoid that, including *regularization the stochastic gradient descent*.\n",
    "\n",
    "### Applying the Chain Rule\n",
    "\n",
    "The network you’re building has two layers, and since each layer has its own functions, you’re dealing with a function composition.\n",
    "\n",
    "To restate the problem, now you want to know how to change weights_1 and bias to reduce the error. You already saw that you can use derivatives for this, but instead of a function with only a sum inside, now you have a function that produces its result using other functions.\n",
    "\n",
    "Since now you have this function composition, to take the derivative of the error concerning the parameters, you’ll need to use the chain rule from calculus. With the chain rule, you take the partial derivatives of each function, evaluate them, and multiply all the partial derivatives to get the derivative you want.\n",
    "\n",
    "Now you can start updating the weights. You want to know how to change the weights to decrease the error. This implies that you need to compute the derivative of the error with respect to weights. Since the error is computed by combining different functions, you need to take the partial derivatives of these functions.\n",
    "\n",
    "<img src=\"https://realpython.com/cdn-cgi/image/width=1500,format=auto/https://files.realpython.com/media/partial_derivative_weights_2.c792633559c3.png\" width=\"300\">\n",
    "\n",
    "Taking the inverse path of making a prediction and computing the partial derivatives at each function. To calculate the derivative, you multiply all the partial derivatives that follow the path.\n",
    "\n",
    "derror_dweights = (derror_dprediction * dprediction_dlayer1 * dlayer1_dweights)\n",
    "\n",
    "For derror_dprediction, you want to know the derivative of the function that computes the error with respect to the prediction value.\n",
    "\n",
    "This reverse path is called *a backward pass*. In each backward pass, you compute the partial derivatives of each function, substitute the variables by their values, and finally multiply everything. This algorithm to update the neural network parameters is called *backpropagation*.\n",
    "\n",
    "#### Adjusting the Parameters With Backpropagation\n",
    "\n",
    "You want to take the derivative of the error function with respect to the bias, derror_dbias. Then you’ll keep going backward, taking the partial derivatives until you find the bias variable.\n",
    "\n",
    "<img src=\"https://realpython.com/cdn-cgi/image/width=1500,format=auto/https://files.realpython.com/media/partial_derivative_bias_2.177c16a60b9d.png\" width=\"300\">\n",
    "\n",
    "Take the derivative of the prediction with respect to the previous layer, dprediction_dlayer1. The prediction is the result of the sigmoid function. You can take the derivative of the sigmoid function by multiplying sigmoid(x) and 1 - sigmoid(x). You can use the sigmoid result that has already been computed to compute the derivative of it. You then take this partial derivative and continue going backward. Now you’ll take the derivative of layer_1 with respect to the bias. The bias variable is an independent variable, so the result after applying the power rule is 1. You can put everything together and compute derror_dbias.\n",
    "\n",
    "To update the weights, you follow the same process, going backward and taking the partial derivatives until you get to the weights variable. Since you’ve already computed some of the partial derivatives, you’ll just need to compute dlayer1_dweights."
   ]
  },
  {
   "cell_type": "code",
   "execution_count": 8,
   "id": "64230df9-6bda-4e78-acbd-0cba23b518de",
   "metadata": {},
   "outputs": [],
   "source": [
    "def sigmoid_deriv(x):\n",
    "    return sigmoid(x) * (1-sigmoid(x))\n",
    "\n",
    "derror_dprediction = 2 * (prediction - target)\n",
    "layer_1 = np.dot(input_vector, weights_1) + bias\n",
    "dprediction_dlayer1 = sigmoid_deriv(layer_1)\n",
    "dlayer1_dbias = 1\n",
    "\n",
    "derror_dbias = (\n",
    "    derror_dprediction * dprediction_dlayer1 * dlayer1_dbias\n",
    ")"
   ]
  },
  {
   "cell_type": "markdown",
   "id": "3613d0b1-23fd-47e6-9253-d1be3ff18616",
   "metadata": {},
   "source": [
    "## Creating the Neural Network Class\n",
    "\n",
    "Now you know how to write the expressions to update both the weights and the bias. The NeuralNetwork class generates random start values for the weights and bias variables.\n",
    "\n",
    "### Training the Network With More Data\n",
    "\n",
    "You’ve already adjusted the weights and the bias for one data instance, but the goal is to make the network generalize over an entire dataset. *Stochastic gradient descent* is a technique in which, at every iteration, the model makes a prediction based on a randomly selected piece of training data, calculates the error, and updates the parameters.\n",
    "\n",
    "You’ll save the error over all data points every 100 iterations because you want to plot a chart showing how this metric changes as the number of iterations increases.\n",
    "\n",
    "You pick a random instance from the dataset, compute the gradients, and update the weights and the bias. You also compute the cumulative error every 100 iterations and save those results in an array. You’ll plot this array to visualize how the error changes during the training process."
   ]
  },
  {
   "cell_type": "code",
   "execution_count": 9,
   "id": "091f4b04-71d7-4a3a-90c4-0d70d7939dd9",
   "metadata": {},
   "outputs": [],
   "source": [
    "class NeuralNetwork:\n",
    "    def __init__(self, learning_rate):\n",
    "        self.weights = np.array([np.random.randn(), np.random.randn()])\n",
    "        self.bias = np.random.randn()\n",
    "        self.learning_rate = learning_rate\n",
    "\n",
    "    def _sigmoid(self, x):\n",
    "        return 1 / (1 + np.exp(-x))\n",
    "\n",
    "    def _sigmoid_deriv(self, x):\n",
    "        return self._sigmoid(x) * (1 - self._sigmoid(x))\n",
    "\n",
    "    def predict(self, input_vector):\n",
    "        layer_1 = np.dot(input_vector, self.weights) + self.bias\n",
    "        layer_2 = self._sigmoid(layer_1)\n",
    "        prediction = layer_2\n",
    "        return prediction\n",
    "\n",
    "    def _compute_gradients(self, input_vector, target):\n",
    "        layer_1 = np.dot(input_vector, self.weights) + self.bias\n",
    "        layer_2 = self._sigmoid(layer_1)\n",
    "        prediction = layer_2\n",
    "\n",
    "        derror_dprediction = 2 * (prediction - target)\n",
    "        dprediction_dlayer1 = self._sigmoid_deriv(layer_1)\n",
    "        dlayer1_dbias = 1\n",
    "        dlayer1_dweights = (0 * self.weights) + (1 * input_vector)\n",
    "\n",
    "        derror_dbias = (\n",
    "            derror_dprediction * dprediction_dlayer1 * dlayer1_dbias\n",
    "        )\n",
    "        derror_dweights = (\n",
    "            derror_dprediction * dprediction_dlayer1 * dlayer1_dweights\n",
    "        )\n",
    "\n",
    "        return derror_dbias, derror_dweights\n",
    "\n",
    "    def _update_parameters(self, derror_dbias, derror_dweights):\n",
    "        self.bias = self.bias - (derror_dbias * self.learning_rate)\n",
    "        self.weights = self.weights - (\n",
    "            derror_dweights * self.learning_rate\n",
    "        )\n",
    "\n",
    "    def train(self, input_vectors, targets, iterations):\n",
    "        cumulative_errors = []\n",
    "        for current_iteration in range(iterations):\n",
    "            # Pick a data instance at random\n",
    "            random_data_index = np.random.randint(len(input_vectors))\n",
    "\n",
    "            input_vector = input_vectors[random_data_index]\n",
    "            target = targets[random_data_index]\n",
    "\n",
    "            # Compute the gradients and update the weights\n",
    "            # Calculate the partial derivatives and return the derivatives for the bias and the weights.\n",
    "            derror_dbias, derror_dweights = self._compute_gradients(\n",
    "                input_vector, target\n",
    "            )\n",
    "\n",
    "            # Updates the bias and the weights.\n",
    "            self._update_parameters(derror_dbias, derror_dweights)\n",
    "\n",
    "            # Measure the cumulative error for all the instances\n",
    "            if current_iteration % 100 == 0:\n",
    "                cumulative_error = 0\n",
    "                # Loop through all the instances to measure the error\n",
    "                for data_instance_index in range(len(input_vectors)):\n",
    "                    data_point = input_vectors[data_instance_index]\n",
    "                    target = targets[data_instance_index]\n",
    "\n",
    "                    prediction = self.predict(data_point)\n",
    "                    error = np.square(prediction - target)\n",
    "\n",
    "                    # Accumulate the sum of the errors.\n",
    "                    # You want to plot a point with the error for all the data instances.\n",
    "                    cumulative_error = cumulative_error + error\n",
    "                # You’ll use this array to plot the graph.\n",
    "                cumulative_errors.append(cumulative_error)\n",
    "\n",
    "        \n",
    "        return cumulative_errors"
   ]
  },
  {
   "cell_type": "code",
   "execution_count": 10,
   "id": "1a9d0f22-6553-422b-b932-1c5eddce47f7",
   "metadata": {},
   "outputs": [
    {
     "data": {
      "text/plain": [
       "np.float64(0.8288794256156597)"
      ]
     },
     "execution_count": 10,
     "metadata": {},
     "output_type": "execute_result"
    }
   ],
   "source": [
    "learning_rate = 0.1\n",
    "neural_network = NeuralNetwork(learning_rate)\n",
    "neural_network.predict(input_vector)"
   ]
  },
  {
   "cell_type": "code",
   "execution_count": 11,
   "id": "07b91118-48fe-48a2-86c7-d7222f56517f",
   "metadata": {},
   "outputs": [
    {
     "data": {
      "text/plain": [
       "[<matplotlib.lines.Line2D at 0x10eacbe00>]"
      ]
     },
     "execution_count": 11,
     "metadata": {},
     "output_type": "execute_result"
    },
    {
     "data": {
      "image/png": "[encoded data removed]",
      "text/plain": [
       "<Figure size 640x480 with 1 Axes>"
      ]
     },
     "metadata": {},
     "output_type": "display_data"
    }
   ],
   "source": [
    "input_vectors = np.array(\n",
    "    [\n",
    "        [3, 1.5],\n",
    "        [2, 1],\n",
    "        [4, 1.5],\n",
    "        [3, 4],\n",
    "        [3.5, 0.5],\n",
    "        [2, 0.5],\n",
    "        [5.5, 1],\n",
    "        [1, 1],\n",
    "    ]\n",
    ")\n",
    "\n",
    "targets = np.array([0, 1, 0, 1, 0, 1, 1, 0])\n",
    "\n",
    "learning_rate = 0.1\n",
    "\n",
    "neural_network = NeuralNetwork(learning_rate)\n",
    "\n",
    "training_error = neural_network.train(input_vectors, targets, 10000)\n",
    "\n",
    "plt.plot(training_error)"
   ]
  }
 ],
 "metadata": {
  "kernelspec": {
   "display_name": "Python 3 (ipykernel)",
   "language": "python",
   "name": "python3"
  },
  "language_info": {
   "codemirror_mode": {
    "name": "ipython",
    "version": 3
   },
   "file_extension": ".py",
   "mimetype": "text/x-python",
   "name": "python",
   "nbconvert_exporter": "python",
   "pygments_lexer": "ipython3",
   "version": "3.12.7"
  }
 },
 "nbformat": 4,
 "nbformat_minor": 5
}
